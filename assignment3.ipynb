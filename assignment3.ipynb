{
 "cells": [
  {
   "cell_type": "markdown",
   "metadata": {},
   "source": [
    "# Assignment 3\n"
   ]
  },
  {
   "cell_type": "markdown",
   "metadata": {},
   "source": [
    "question 1.1"
   ]
  },
  {
   "cell_type": "code",
   "execution_count": 1,
   "metadata": {},
   "outputs": [
    {
     "data": {
      "text/plain": [
       "18"
      ]
     },
     "execution_count": 1,
     "metadata": {},
     "output_type": "execute_result"
    }
   ],
   "source": [
    "def sample_fun(LM):\n",
    "    s = 1\n",
    "    for i in LM:\n",
    "        s = s * i\n",
    "    return s\n",
    "\n",
    "LK = [1,2,3,3]\n",
    "        \n",
    "def myreduce(sample_fun,L):\n",
    "    return sample_fun(L)\n",
    "myreduce(sample_fun,LK)"
   ]
  },
  {
   "cell_type": "markdown",
   "metadata": {},
   "source": [
    "question 1.2"
   ]
  },
  {
   "cell_type": "code",
   "execution_count": 2,
   "metadata": {},
   "outputs": [
    {
     "data": {
      "text/plain": [
       "[2, 4, 6]"
      ]
     },
     "execution_count": 2,
     "metadata": {},
     "output_type": "execute_result"
    }
   ],
   "source": [
    "def sample_fun(LK):\n",
    "    Final = []\n",
    "    for i in LK:\n",
    "        if i % 2 == 0:\n",
    "            Final.append(i)\n",
    "    return Final\n",
    "\n",
    "LK = [1,2,3,4,5,6]\n",
    "\n",
    "def myfilter(fun,L):\n",
    "    return fun(L)\n",
    "\n",
    "myfilter(sample_fun,LK)"
   ]
  },
  {
   "cell_type": "markdown",
   "metadata": {},
   "source": [
    "question 2"
   ]
  },
  {
   "cell_type": "code",
   "execution_count": 3,
   "metadata": {},
   "outputs": [
    {
     "name": "stdout",
     "output_type": "stream",
     "text": [
      "['A', 'C', 'A', 'D', 'G', 'I', 'L', 'D']\n",
      "['x', 'xx', 'xxx', 'xxxx', 'y', 'yy', 'yyy', 'yyyy', 'z', 'zz', 'zzz', 'zzzz']\n",
      "['x', 'y', 'z', 'xx', 'yy', 'zz', 'xxx', 'yyy', 'zzz']\n",
      "[[2], [3], [4], [3], [4], [5], [4], [5], [6]]\n",
      "[[2, 3, 4, 5], [3, 4, 5, 6], [4, 5, 6, 7], [5, 6, 7, 8]]\n",
      "[(1, 1), (1, 2), (1, 3), (2, 1), (2, 2), (2, 3), (3, 1), (3, 2), (3, 3)]\n"
     ]
    }
   ],
   "source": [
    "L1 = [ch for ch in 'ACADGILD']\n",
    "L = ['x','y','z']\n",
    "L2 = [ch*num for ch in L for num in range(1,5)]\n",
    "L3 = [ch*num for num in range(1,4) for ch in L ]\n",
    "LM = [2,3,4]\n",
    "L4 = [[ch+num] for ch in LM for num in range(0,3)]\n",
    "LM1 = [2,3,4,5]\n",
    "L5 = [[i+num for i in LM1] for num in range(0,4) ]\n",
    "L6 = [(i,j) for i in range(1,4) for j in range(1,4)]\n",
    "print(L1)\n",
    "print(L2)\n",
    "print(L3)\n",
    "print(L4)\n",
    "print(L5)\n",
    "print(L6)"
   ]
  }
 ],
 "metadata": {
  "kernelspec": {
   "display_name": "Python 3",
   "language": "python",
   "name": "python3"
  },
  "language_info": {
   "codemirror_mode": {
    "name": "ipython",
    "version": 3
   },
   "file_extension": ".py",
   "mimetype": "text/x-python",
   "name": "python",
   "nbconvert_exporter": "python",
   "pygments_lexer": "ipython3",
   "version": "3.7.6"
  }
 },
 "nbformat": 4,
 "nbformat_minor": 4
}
